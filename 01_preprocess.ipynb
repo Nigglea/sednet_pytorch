{
 "cells": [
  {
   "cell_type": "code",
   "execution_count": 1,
   "source": [
    "import os\n",
    "import numpy as np\n",
    "import torch\n",
    "from torch.utils.data import Dataset, DataLoader, Subset\n",
    "import pandas as pd\n",
    "import torchaudio\n",
    "import codes.utils\n",
    "from codes.preprocess_data import *"
   ],
   "outputs": [],
   "metadata": {}
  },
  {
   "cell_type": "code",
   "execution_count": 2,
   "source": [
    "FOLDER_ANNOTATIONS = \"datos/\"\n",
    "ANNOTATIONS_FILE = [\"train_set.txt\",\"test_set.txt\"]\n",
    "N_FOLDS = 4\n",
    "MBE_DIR_TR = \"features/\"+ ANNOTATIONS_FILE[0].split(\".\")[0]+\"/\"\n",
    "MBE_DIR_TE = \"features/\"+ ANNOTATIONS_FILE[1].split(\".\")[0]+\"/\"\n",
    "SAMPLE_RATE = 44100\n",
    "LEN_SEC = 300\n",
    "LEN_SAMPLES = LEN_SEC*SAMPLE_RATE\n",
    "__class_labels = {\n",
    "'perro'    : 0,\n",
    "'rana'     : 1,\n",
    "'lluvia'   : 2,\n",
    "'motor'    : 3,\n",
    "'ave'      : 4\n",
    "}\n",
    "N_FFT = 2048\n",
    "HOP = int(N_FFT/2)\n",
    "N_MELS = 40"
   ],
   "outputs": [],
   "metadata": {}
  },
  {
   "cell_type": "code",
   "execution_count": 3,
   "source": [
    "df_train = pd.read_csv(FOLDER_ANNOTATIONS+ANNOTATIONS_FILE[0],sep=\" \",\n",
    "                    names=[\"filepath\",\"start\",\"end\",\"class_name\"])\n",
    "audio_filenames_train = np.unique(df_train.filepath)"
   ],
   "outputs": [],
   "metadata": {}
  },
  {
   "cell_type": "code",
   "execution_count": 4,
   "source": [
    "for i,file in enumerate(audio_filenames_train):\n",
    "    mbe,label = preprocess_data(file,FOLDER_ANNOTATIONS+ANNOTATIONS_FILE[0],SAMPLE_RATE,\n",
    "                                LEN_SAMPLES,N_FFT,HOP,N_MELS,__class_labels,device=\"cuda\")\n",
    "    numberfile = file.split(\"/\")[1].split(\".\")[0].replace(\"audio\",\"\")\n",
    "    namembe = \"{}mbe{}.pt\".format(MBE_DIR_TR,numberfile)\n",
    "    torch.save({\"data\":mbe,\"label\":label}, namembe)\n",
    "    if i==0:\n",
    "        mean_std = mbe\n",
    "    else:\n",
    "        mean_std = torch.cat((mean_std,mbe))"
   ],
   "outputs": [
    {
     "output_type": "stream",
     "name": "stderr",
     "text": [
      "/home/vpoblete/Escritorio/tesis/notebooks/codes/preprocess_data.py:86: UserWarning: To copy construct from a tensor, it is recommended to use sourceTensor.clone().detach() or sourceTensor.clone().detach().requires_grad_(True), rather than torch.tensor(sourceTensor).\n",
      "  label_tensor = torch.tensor(label,device=device)\n"
     ]
    }
   ],
   "metadata": {}
  },
  {
   "cell_type": "code",
   "execution_count": 5,
   "source": [
    "df_test = pd.read_csv(FOLDER_ANNOTATIONS+ANNOTATIONS_FILE[1],sep=\" \",\n",
    "                    names=[\"filepath\",\"start\",\"end\",\"class_name\"])\n",
    "audio_filenames_test = np.unique(df_test.filepath)"
   ],
   "outputs": [],
   "metadata": {}
  },
  {
   "cell_type": "code",
   "execution_count": 6,
   "source": [
    "for i,file in enumerate(audio_filenames_test):\n",
    "    mbe,label = preprocess_data(file,FOLDER_ANNOTATIONS+ANNOTATIONS_FILE[1],SAMPLE_RATE,\n",
    "                                LEN_SAMPLES,N_FFT,HOP,N_MELS,__class_labels,device=\"cuda\")\n",
    "    numberfile = file.split(\"/\")[1].split(\".\")[0].replace(\"audio\",\"\")\n",
    "    namembe = \"{}mbe{}.pt\".format(MBE_DIR_TE,numberfile)\n",
    "    torch.save({\"data\":mbe,\"label\":label}, namembe)\n",
    "    mean_std = torch.cat((mean_std,mbe))"
   ],
   "outputs": [],
   "metadata": {}
  },
  {
   "cell_type": "code",
   "execution_count": 7,
   "source": [
    "mean = torch.mean(mean_std)\n",
    "std = torch.std(mean_std)\n",
    "print(mean,std)"
   ],
   "outputs": [
    {
     "output_type": "stream",
     "name": "stdout",
     "text": [
      "tensor(-8.4723, device='cuda:0') tensor(2.8595, device='cuda:0')\n"
     ]
    }
   ],
   "metadata": {}
  },
  {
   "cell_type": "code",
   "execution_count": 8,
   "source": [
    "for i,file in enumerate(audio_filenames_train):\n",
    "    mbe,label = preprocess_data(file,FOLDER_ANNOTATIONS+ANNOTATIONS_FILE[0],SAMPLE_RATE,\n",
    "                                LEN_SAMPLES,N_FFT,HOP,N_MELS,__class_labels,device=\"cuda\")\n",
    "    numberfile = file.split(\"/\")[1].split(\".\")[0].replace(\"audio\",\"\")\n",
    "    namembe = \"{}mbe{}.pt\".format(MBE_DIR_TR,numberfile)\n",
    "    mbe = (mbe-mean)/std\n",
    "    torch.save({\"data\":mbe,\"label\":label}, namembe)\n",
    "    if i==0:\n",
    "        mean_std = mbe\n",
    "    else:\n",
    "        mean_std = torch.cat((mean_std,mbe))"
   ],
   "outputs": [],
   "metadata": {}
  },
  {
   "cell_type": "code",
   "execution_count": 9,
   "source": [
    "for i,file in enumerate(audio_filenames_test):\n",
    "    mbe,label = preprocess_data(file,FOLDER_ANNOTATIONS+ANNOTATIONS_FILE[1],SAMPLE_RATE,\n",
    "                                LEN_SAMPLES,N_FFT,HOP,N_MELS,__class_labels,device=\"cuda\")\n",
    "    numberfile = file.split(\"/\")[1].split(\".\")[0].replace(\"audio\",\"\")\n",
    "    namembe = \"{}mbe{}.pt\".format(MBE_DIR_TE,numberfile)\n",
    "    mbe = (mbe-mean)/std\n",
    "    torch.save({\"data\":mbe,\"label\":label}, namembe)\n",
    "    mean_std = torch.cat((mean_std,mbe))"
   ],
   "outputs": [],
   "metadata": {}
  },
  {
   "cell_type": "code",
   "execution_count": 10,
   "source": [
    "mean1 = torch.mean(mean_std)\n",
    "std1 = torch.std(mean_std)\n",
    "print(mean1,std1)"
   ],
   "outputs": [
    {
     "output_type": "stream",
     "name": "stdout",
     "text": [
      "tensor(-8.4723, device='cuda:0') tensor(2.8595, device='cuda:0')\n"
     ]
    }
   ],
   "metadata": {}
  }
 ],
 "metadata": {
  "orig_nbformat": 4,
  "language_info": {
   "name": "python",
   "version": "3.9.5",
   "mimetype": "text/x-python",
   "codemirror_mode": {
    "name": "ipython",
    "version": 3
   },
   "pygments_lexer": "ipython3",
   "nbconvert_exporter": "python",
   "file_extension": ".py"
  },
  "kernelspec": {
   "name": "python3",
   "display_name": "Python 3.9.5 64-bit ('ia_257': conda)"
  },
  "interpreter": {
   "hash": "2c2ae1fa8f4c727dd589fb2bff9478f53eaab7b86ff56190838baa3205820518"
  }
 },
 "nbformat": 4,
 "nbformat_minor": 2
}