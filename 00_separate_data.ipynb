{
 "cells": [
  {
   "cell_type": "code",
   "execution_count": null,
   "source": [
    "import pandas as pd \n",
    "from sklearn.model_selection import train_test_split\n",
    "import numpy as np \n",
    "from codes.utils import create_set"
   ],
   "outputs": [],
   "metadata": {}
  },
  {
   "cell_type": "code",
   "execution_count": null,
   "source": [
    "ANNOTATIONS_FILE = \"datos/groundtruth_720_no_siren.txt\"\n",
    "COLUMNS = [\"filenames\",\"start\",\"end\",\"class\"]\n",
    "GROUNDTRUTH = pd.read_csv(ANNOTATIONS_FILE, sep=\" \",names=COLUMNS)\n",
    "FILENAMES = np.unique(GROUNDTRUTH.filenames)"
   ],
   "outputs": [],
   "metadata": {}
  },
  {
   "cell_type": "code",
   "execution_count": null,
   "source": [
    "files_train,files_test = train_test_split(FILENAMES, test_size=0.2)\n",
    "train = create_set(files_train, GROUNDTRUTH)\n",
    "test = create_set(files_test, GROUNDTRUTH)\n",
    "train.to_csv(\"datos/train_set.txt\",sep =\" \",index=False,header=False)\n",
    "test.to_csv(\"datos/test_set.txt\",sep =\" \",index=False,header=False)"
   ],
   "outputs": [],
   "metadata": {}
  }
 ],
 "metadata": {
  "orig_nbformat": 4,
  "language_info": {
   "name": "python"
  }
 },
 "nbformat": 4,
 "nbformat_minor": 2
}